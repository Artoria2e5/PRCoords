{
 "cells": [
  {
   "cell_type": "markdown",
   "metadata": {},
   "source": [
    "Approximation\n",
    "=============\n",
    "\n",
    "Scroll down and you should find some approximations of the obfuscation code.\n",
    "I have no idea what evil forces compelled me to do this, but eh let's roll with it."
   ]
  },
  {
   "cell_type": "code",
   "execution_count": 3,
   "metadata": {},
   "outputs": [],
   "source": [
    "using TaylorModels"
   ]
  },
  {
   "cell_type": "markdown",
   "metadata": {},
   "source": [
    "GCJ-02\n",
    "------\n",
    "\n",
    "The `abs()` makes it impossible to feed into taylor, so I think I will just feed the trigs in. Splitting the x and y too, so we don't get a lot of zero in the coeffs.\n",
    "\n",
    "Let's start with... typing the formulae:"
   ]
  },
  {
   "cell_type": "code",
   "execution_count": 4,
   "metadata": {},
   "outputs": [
    {
     "data": {
      "text/plain": "e1 (generic function with 1 method)"
     },
     "execution_count": 4,
     "metadata": {},
     "output_type": "execute_result"
    }
   ],
   "source": [
    "# Not gonna type these pi.\n",
    "spi(x) = sin(x * pi)\n",
    "\n",
    "# Just the core meter-level shite. 1 and 2 are to be fed to taylor.\n",
    "n0(x, y) = -100 + 0.1x*y + 0.2 * sqrt(abs(x))\n",
    "n1(x) = 2x + 20 / 3 * (2 * spi(6x) + 2 * spi(2x))\n",
    "n2(y) = 3y + 0.2y^2 + 20 / 3 * (2 * spi(y) + 4 * spi(y/3) + 16 * spi(y/12) + 32 * spi(y/30))\n",
    "\n",
    "e0(x, y) = 300 + 0.1x*y + 0.1 * sqrt(abs(x)) + 2y\n",
    "e1(x) = x + 0.1x^2 + 20 / 3 * (2 * spi(6x) + 2 * spi(2x) + 2 * spi(x) + 4 * spi(x/3) + 15 * spi(x/12) + 30 * spi(x/30))"
   ]
  },
  {
   "cell_type": "markdown",
   "metadata": {},
   "source": [
    "Set up for TaylorModels:"
   ]
  },
  {
   "cell_type": "code",
   "execution_count": 5,
   "metadata": {},
   "outputs": [
    {
     "name": "stdout",
     "output_type": "stream",
     "text": [
      "n1tm =  [337.103, 337.104] t + [-15434.3, -15434.2] t³ + [265489, 265490] t⁵ + [-4.894e+16, 4.894e+16]\n",
      "n2tm =  [123.078, 123.079] t + [0.2, 0.200001] t² + [-74.3666, -74.3665] t³ + [34.2831, 34.2832] t⁵ + [-1.74906e+11, 1.74906e+11]\n",
      "e1tm =  [453.04, 453.041] t + [0.1, 0.100001] t² + [-15508.6, -15508.5] t³ + [265523, 265524] t⁵ + [-4.89402e+16, 4.89402e+16]\n"
     ]
    }
   ],
   "source": [
    "x_dom = -30..30\r\n",
    "y_dom = -30..20\r\n",
    "\r\n",
    "# 35,105 as the center of China. What can go wrong?\r\n",
    "x0 = 0\r\n",
    "y0 = 0\r\n",
    "\r\n",
    "ORDER = 6\r\n",
    "\r\n",
    "tmx = TaylorModel1(ORDER, interval(x0), x_dom)\r\n",
    "tmy = TaylorModel1(ORDER, interval(y0), y_dom)\r\n",
    "\r\n",
    "n1tm = n1(tmx)\r\n",
    "n2tm = n2(tmy)\r\n",
    "e1tm = e1(tmx)\r\n",
    "\r\n",
    "println(\"n1tm = \", n1tm)\r\n",
    "println(\"n2tm = \", n2tm)\r\n",
    "println(\"e1tm = \", e1tm)"
   ]
  },
  {
   "cell_type": "markdown",
   "metadata": {},
   "source": [
    "Oh well, the last term is way better than what I expected. Let's export them as usual polynomials then."
   ]
  },
  {
   "cell_type": "code",
   "execution_count": 6,
   "metadata": {},
   "outputs": [
    {
     "name": "stdout",
     "output_type": "stream",
     "text": [
      "n1t = 337.10321638291134 t - 15434.235503082582 t³ + 265489.0776448309 t⁵ + 𝒪(t⁷)\n",
      "n2t =  123.07865253720988 t + 0.2 t² - 74.36657685107961 t³ + 34.28315615652991 t⁵ + 𝒪(t⁷)\n",
      "e1t =  453.0402762665314 t + 0.1 t² - 15508.57959081323 t³ + 265523.36073126463 t⁵ + 𝒪(t⁷)\n"
     ]
    }
   ],
   "source": [
    "function mid_tm(t::TaylorModel1)\r\n",
    "    coeffs = map(x -> mid(x), t.pol.coeffs)\r\n",
    "    order = t.pol.order\r\n",
    "    return Taylor1(coeffs, order)\r\n",
    "end\r\n",
    "n1t = mid_tm(n1tm)\r\n",
    "n2t = mid_tm(n2tm)\r\n",
    "e1t = mid_tm(e1tm)\r\n",
    "println(\"n1t = \", n1t)\r\n",
    "println(\"n2t = \", n2t)\r\n",
    "println(\"e1t = \", e1t)"
   ]
  },
  {
   "cell_type": "markdown",
   "metadata": {},
   "source": [
    "These should be good enough to just translate into code. If you are allowing the compiler to reassoc, there should be no need of manually writing Horner and thinking about pipelines. The reduced number of operations might even make `f32` acceptable. I will eventually put it in the cpp thing and check it.\r\n",
    "\r\n",
    "The arclen stuff have the same `sqrt` issue, so it's not getting changed here.\r\n",
    "\r\n",
    "BD-09\r\n",
    "----\r\n",
    "We have a `sqrt` in `hypot`, so no. We can't fuze any operations here anyways.\r\n",
    "\r\n",
    "\r\n",
    "Plotting session\r\n",
    "----------------\r\n",
    "Oops UI can't install `Plots`. And I just realized the resulting numbers are\r\n",
    "unreasonably large. Oops."
   ]
  },
  {
   "cell_type": "code",
   "execution_count": null,
   "metadata": {},
   "outputs": [],
   "source": []
  }
 ],
 "metadata": {
  "kernelspec": {
   "display_name": "Julia 1.5.0-rc1",
   "language": "julia",
   "name": "julia-1.5"
  },
  "language_info": {
   "file_extension": ".jl",
   "mimetype": "application/julia",
   "name": "julia",
   "version": "1.5.0"
  },
  "orig_nbformat": 2
 },
 "nbformat": 4,
 "nbformat_minor": 2
}